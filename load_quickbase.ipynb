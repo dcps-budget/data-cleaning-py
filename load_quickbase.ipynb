{
 "cells": [
  {
   "cell_type": "code",
   "execution_count": 8,
   "id": "03210fc5",
   "metadata": {},
   "outputs": [
    {
     "data": {
      "text/plain": [
       "True"
      ]
     },
     "execution_count": 8,
     "metadata": {},
     "output_type": "execute_result"
    }
   ],
   "source": [
    "import os\n",
    "import pandas as pd\n",
    "import requests\n",
    "from dotenv import load_dotenv\n",
    "from data_cleaning_py import clean_025\n",
    "\n",
    "load_dotenv()"
   ]
  },
  {
   "cell_type": "code",
   "execution_count": 9,
   "id": "3ac52c47",
   "metadata": {},
   "outputs": [],
   "source": [
    "headers = {\n",
    "    \"QB-Realm-Hostname\": os.getenv(\"QB_REALMHOSTNAME\"),\n",
    "    \"User-Agent\": os.getenv(\"QB_USERAGENT\"),\n",
    "    \"Authorization\": f\"QB-USER-TOKEN {os.getenv('QB_AUTHORIZATION')}\",\n",
    "    \"Content-Type\": \"application/json\",\n",
    "}"
   ]
  },
  {
   "cell_type": "markdown",
   "id": "83fca5a2",
   "metadata": {},
   "source": [
    "Get field ID's"
   ]
  },
  {
   "cell_type": "code",
   "execution_count": 10,
   "id": "59f0a382",
   "metadata": {},
   "outputs": [],
   "source": [
    "join_fields = [\n",
    "    \"year_fiscal\",\n",
    "    \"agency_id\",\n",
    "    \"fund_id\",\n",
    "    \"program_id\",\n",
    "    \"costcenter_id\",\n",
    "    \"account_id\",\n",
    "    \"project_id\",\n",
    "    \"award_id\",\n",
    "]\n",
    "query_fields = join_fields + [\"qbid\"]\n",
    "\n",
    "params = {\"tableId\": \"bu9duyip8\"}\n",
    "\n",
    "r = requests.get(\n",
    "    url=\"https://api.quickbase.com/v1/fields\", params=params, headers=headers\n",
    ")\n",
    "\n",
    "fields = {\n",
    "    field[\"id\"]: field[\"label\"] for field in r.json() if field[\"label\"] in query_fields\n",
    "}\n",
    "\n",
    "field_ids = list(fields)"
   ]
  },
  {
   "cell_type": "markdown",
   "id": "a2b8cf35",
   "metadata": {},
   "source": [
    "Query for data"
   ]
  },
  {
   "cell_type": "code",
   "execution_count": 11,
   "id": "7022f861",
   "metadata": {},
   "outputs": [],
   "source": [
    "body = {\"from\": \"bu9duyip8\", \"select\": field_ids}\n",
    "\n",
    "r = requests.post(\n",
    "    url=\"https://api.quickbase.com/v1/records/query\", json=body, headers=headers\n",
    ")\n",
    "\n",
    "balances = r.json()[\"data\"][0:2]\n",
    "\n",
    "balances_normalized = {}\n",
    "for field_id in field_ids:\n",
    "    balances_normalized[field_id] = []\n",
    "    for balance in balances:\n",
    "        balances_normalized[field_id].append(balance[str(field_id)][\"value\"])\n",
    "\n",
    "balances_normalized = pd.DataFrame(balances_normalized).rename(columns=fields)"
   ]
  },
  {
   "cell_type": "markdown",
   "id": "8ab4c68e",
   "metadata": {},
   "source": [
    "Update records"
   ]
  },
  {
   "cell_type": "code",
   "execution_count": null,
   "id": "c52b98a6",
   "metadata": {},
   "outputs": [
    {
     "name": "stdout",
     "output_type": "stream",
     "text": [
      "R209: Finished 165 \trows at 2025-07-17 18:14:43.244769\n",
      "R025: Finished 42633 \trows at 2025-07-17 18:14:43.412609\n"
     ]
    },
    {
     "data": {
      "text/html": [
       "<div>\n",
       "<style scoped>\n",
       "    .dataframe tbody tr th:only-of-type {\n",
       "        vertical-align: middle;\n",
       "    }\n",
       "\n",
       "    .dataframe tbody tr th {\n",
       "        vertical-align: top;\n",
       "    }\n",
       "\n",
       "    .dataframe thead th {\n",
       "        text-align: right;\n",
       "    }\n",
       "</style>\n",
       "<table border=\"1\" class=\"dataframe\">\n",
       "  <thead>\n",
       "    <tr style=\"text-align: right;\">\n",
       "      <th></th>\n",
       "      <th>year_fiscal</th>\n",
       "      <th>agency_id</th>\n",
       "      <th>fund_id</th>\n",
       "      <th>program_id</th>\n",
       "      <th>costcenter_id</th>\n",
       "      <th>account_3_id</th>\n",
       "      <th>account_1_id</th>\n",
       "      <th>account_id</th>\n",
       "      <th>project_id</th>\n",
       "      <th>award_id</th>\n",
       "      <th>budget_adjusted</th>\n",
       "      <th>budget_spent</th>\n",
       "      <th>budget_current</th>\n",
       "    </tr>\n",
       "  </thead>\n",
       "  <tbody>\n",
       "    <tr>\n",
       "      <th>0</th>\n",
       "      <td>2025</td>\n",
       "      <td>GA0</td>\n",
       "      <td>3030300</td>\n",
       "      <td>400222</td>\n",
       "      <td>40078</td>\n",
       "      <td>700000A</td>\n",
       "      <td>701400C</td>\n",
       "      <td>7014016</td>\n",
       "      <td>100428</td>\n",
       "      <td>3000076</td>\n",
       "      <td>-65.57</td>\n",
       "      <td>79.68</td>\n",
       "      <td>-145.25</td>\n",
       "    </tr>\n",
       "    <tr>\n",
       "      <th>1</th>\n",
       "      <td>2025</td>\n",
       "      <td>GA0</td>\n",
       "      <td>3030300</td>\n",
       "      <td>400060</td>\n",
       "      <td>40078</td>\n",
       "      <td>700000A</td>\n",
       "      <td>701400C</td>\n",
       "      <td>7014022</td>\n",
       "      <td>100428</td>\n",
       "      <td>3000076</td>\n",
       "      <td>-15263.81</td>\n",
       "      <td>3707.79</td>\n",
       "      <td>-18971.60</td>\n",
       "    </tr>\n",
       "    <tr>\n",
       "      <th>2</th>\n",
       "      <td>2025</td>\n",
       "      <td>GA0</td>\n",
       "      <td>4020002</td>\n",
       "      <td>400210</td>\n",
       "      <td>40086</td>\n",
       "      <td>700000A</td>\n",
       "      <td>701100C</td>\n",
       "      <td>7011001</td>\n",
       "      <td>200474</td>\n",
       "      <td>2000274</td>\n",
       "      <td>0.00</td>\n",
       "      <td>-19078.17</td>\n",
       "      <td>19078.17</td>\n",
       "    </tr>\n",
       "  </tbody>\n",
       "</table>\n",
       "</div>"
      ],
      "text/plain": [
       "   year_fiscal agency_id  fund_id program_id costcenter_id account_3_id  \\\n",
       "0         2025       GA0  3030300     400222         40078      700000A   \n",
       "1         2025       GA0  3030300     400060         40078      700000A   \n",
       "2         2025       GA0  4020002     400210         40086      700000A   \n",
       "\n",
       "  account_1_id account_id project_id award_id  budget_adjusted  budget_spent  \\\n",
       "0      701400C    7014016     100428  3000076           -65.57         79.68   \n",
       "1      701400C    7014022     100428  3000076        -15263.81       3707.79   \n",
       "2      701100C    7011001     200474  2000274             0.00     -19078.17   \n",
       "\n",
       "   budget_current  \n",
       "0         -145.25  \n",
       "1       -18971.60  \n",
       "2        19078.17  "
      ]
     },
     "execution_count": 12,
     "metadata": {},
     "output_type": "execute_result"
    }
   ],
   "source": [
    "r_025 = clean_025.clean_025()\n",
    "\n",
    "r_025[0:2]"
   ]
  },
  {
   "cell_type": "code",
   "execution_count": 13,
   "id": "c84d1186",
   "metadata": {},
   "outputs": [
    {
     "data": {
      "text/html": [
       "<div>\n",
       "<style scoped>\n",
       "    .dataframe tbody tr th:only-of-type {\n",
       "        vertical-align: middle;\n",
       "    }\n",
       "\n",
       "    .dataframe tbody tr th {\n",
       "        vertical-align: top;\n",
       "    }\n",
       "\n",
       "    .dataframe thead th {\n",
       "        text-align: right;\n",
       "    }\n",
       "</style>\n",
       "<table border=\"1\" class=\"dataframe\">\n",
       "  <thead>\n",
       "    <tr style=\"text-align: right;\">\n",
       "      <th></th>\n",
       "      <th>year_fiscal</th>\n",
       "      <th>agency_id</th>\n",
       "      <th>fund_id</th>\n",
       "      <th>program_id</th>\n",
       "      <th>costcenter_id</th>\n",
       "      <th>account_id</th>\n",
       "      <th>project_id</th>\n",
       "      <th>award_id</th>\n",
       "      <th>qbid</th>\n",
       "      <th>account_3_id</th>\n",
       "      <th>account_1_id</th>\n",
       "      <th>budget_adjusted</th>\n",
       "      <th>budget_spent</th>\n",
       "      <th>budget_current</th>\n",
       "    </tr>\n",
       "  </thead>\n",
       "  <tbody>\n",
       "    <tr>\n",
       "      <th>0</th>\n",
       "      <td>2025.0</td>\n",
       "      <td>GA0</td>\n",
       "      <td>4040002</td>\n",
       "      <td>400200</td>\n",
       "      <td>40438</td>\n",
       "      <td>7132001</td>\n",
       "      <td>200480</td>\n",
       "      <td>4000042</td>\n",
       "      <td>1</td>\n",
       "      <td>710000A</td>\n",
       "      <td>713200C</td>\n",
       "      <td>304198.86</td>\n",
       "      <td>0.00</td>\n",
       "      <td>304198.86</td>\n",
       "    </tr>\n",
       "    <tr>\n",
       "      <th>1</th>\n",
       "      <td>2025.0</td>\n",
       "      <td>GA0</td>\n",
       "      <td>1010001</td>\n",
       "      <td>400209</td>\n",
       "      <td>40438</td>\n",
       "      <td>7014016</td>\n",
       "      <td>0</td>\n",
       "      <td>0</td>\n",
       "      <td>2</td>\n",
       "      <td>700000A</td>\n",
       "      <td>701400C</td>\n",
       "      <td>0.00</td>\n",
       "      <td>2403.25</td>\n",
       "      <td>-2403.25</td>\n",
       "    </tr>\n",
       "  </tbody>\n",
       "</table>\n",
       "</div>"
      ],
      "text/plain": [
       "   year_fiscal agency_id  fund_id program_id costcenter_id account_id  \\\n",
       "0       2025.0       GA0  4040002     400200         40438    7132001   \n",
       "1       2025.0       GA0  1010001     400209         40438    7014016   \n",
       "\n",
       "  project_id award_id  qbid account_3_id account_1_id  budget_adjusted  \\\n",
       "0     200480  4000042     1      710000A      713200C        304198.86   \n",
       "1          0        0     2      700000A      701400C             0.00   \n",
       "\n",
       "   budget_spent  budget_current  \n",
       "0          0.00       304198.86  \n",
       "1       2403.25        -2403.25  "
      ]
     },
     "execution_count": 13,
     "metadata": {},
     "output_type": "execute_result"
    }
   ],
   "source": [
    "balances_normalized.merge(r_025, how=\"left\", on=join_fields)"
   ]
  },
  {
   "cell_type": "code",
   "execution_count": 14,
   "id": "bb085e14",
   "metadata": {},
   "outputs": [],
   "source": [
    "body = {\n",
    "    \"to\": \"bu9duyip8\",\n",
    "    \"data\": [{\"3\": {\"value\": 23854}, \"7\": {\"value\": 0.00}}],\n",
    "    \"mergeFieldId\": 3,\n",
    "    \"fieldsToReturn\": [3, 7],\n",
    "}\n",
    "\n",
    "# r = requests.post(\n",
    "#     url=\"https://api.quickbase.com/v1/records\", json=body, headers=headers\n",
    "# )\n",
    "\n",
    "# r.json()"
   ]
  }
 ],
 "metadata": {
  "kernelspec": {
   "display_name": "data-cleaning-py",
   "language": "python",
   "name": "python3"
  },
  "language_info": {
   "codemirror_mode": {
    "name": "ipython",
    "version": 3
   },
   "file_extension": ".py",
   "mimetype": "text/x-python",
   "name": "python",
   "nbconvert_exporter": "python",
   "pygments_lexer": "ipython3",
   "version": "3.13.5"
  }
 },
 "nbformat": 4,
 "nbformat_minor": 5
}
