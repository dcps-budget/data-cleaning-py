{
 "cells": [
  {
   "cell_type": "code",
   "execution_count": null,
   "id": "03210fc5",
   "metadata": {},
   "outputs": [],
   "source": [
    "import os\n",
    "import pandas as pd\n",
    "import requests\n",
    "from dotenv import load_dotenv\n",
    "from data_cleaning_py import clean_025\n",
    "\n",
    "load_dotenv()"
   ]
  },
  {
   "cell_type": "code",
   "execution_count": null,
   "id": "3ac52c47",
   "metadata": {},
   "outputs": [],
   "source": [
    "headers = {\n",
    "    \"QB-Realm-Hostname\": os.getenv(\"QB_REALMHOSTNAME\"),\n",
    "    \"User-Agent\": os.getenv(\"QB_USERAGENT\"),\n",
    "    \"Authorization\": f\"QB-USER-TOKEN {os.getenv('QB_AUTHORIZATION')}\",\n",
    "    \"Content-Type\": \"application/json\",\n",
    "}"
   ]
  },
  {
   "cell_type": "markdown",
   "id": "83fca5a2",
   "metadata": {},
   "source": [
    "Get field ID's"
   ]
  },
  {
   "cell_type": "code",
   "execution_count": null,
   "id": "59f0a382",
   "metadata": {},
   "outputs": [],
   "source": [
    "join_fields = [\n",
    "    \"year_fiscal\",\n",
    "    \"agency_id\",\n",
    "    \"fund_id\",\n",
    "    \"program_id\",\n",
    "    \"costcenter_id\",\n",
    "    \"account_id\",\n",
    "    \"project_id\",\n",
    "    \"award_id\",\n",
    "]\n",
    "query_fields = join_fields + [\"qbid\"]\n",
    "insert_fields = join_fields + [\n",
    "    \"account_3_id\",\n",
    "    \"account_1_id\",\n",
    "    \"budget_adjusted\",\n",
    "    \"budget_spent\",\n",
    "    \"budget_current\",\n",
    "]\n",
    "all_fields = insert_fields + [\"qbid\"]\n",
    "\n",
    "params = {\"tableId\": \"bu9duyip8\"}\n",
    "\n",
    "r = requests.get(\n",
    "    url=\"https://api.quickbase.com/v1/fields\", params=params, headers=headers\n",
    ")\n",
    "\n",
    "fields = {\n",
    "    field[\"label\"]: field[\"id\"] for field in r.json() if field[\"label\"] in all_fields\n",
    "}\n",
    "\n",
    "field_ids = {v: k for k, v in fields.items()}\n",
    "\n",
    "field_ids_query = list({v: k for k, v in fields.items() if k in query_fields})"
   ]
  },
  {
   "cell_type": "markdown",
   "id": "a2b8cf35",
   "metadata": {},
   "source": [
    "Query for data"
   ]
  },
  {
   "cell_type": "code",
   "execution_count": null,
   "id": "7022f861",
   "metadata": {},
   "outputs": [],
   "source": [
    "body = {\"from\": \"bu9duyip8\", \"select\": field_ids_query}\n",
    "\n",
    "r = requests.post(\n",
    "    url=\"https://api.quickbase.com/v1/records/query\", json=body, headers=headers\n",
    ")\n",
    "\n",
    "balances = r.json()[\"data\"]\n",
    "\n",
    "balances_normalized = {}\n",
    "for field_id in field_ids_query:\n",
    "    balances_normalized[field_id] = []\n",
    "    for balance in balances:\n",
    "        balances_normalized[field_id].append(balance[str(field_id)][\"value\"])\n",
    "\n",
    "balances_normalized = pd.DataFrame(balances_normalized).rename(columns=field_ids)"
   ]
  },
  {
   "cell_type": "code",
   "execution_count": null,
   "id": "6b7559c4",
   "metadata": {},
   "outputs": [],
   "source": [
    "len(balances_normalized)"
   ]
  },
  {
   "cell_type": "markdown",
   "id": "8ab4c68e",
   "metadata": {},
   "source": [
    "Update records"
   ]
  },
  {
   "cell_type": "code",
   "execution_count": null,
   "id": "c52b98a6",
   "metadata": {},
   "outputs": [],
   "source": [
    "r_025 = clean_025.clean_025()"
   ]
  },
  {
   "cell_type": "code",
   "execution_count": null,
   "id": "e2540994",
   "metadata": {},
   "outputs": [],
   "source": [
    "len(r_025)"
   ]
  },
  {
   "cell_type": "code",
   "execution_count": null,
   "id": "c84d1186",
   "metadata": {},
   "outputs": [],
   "source": [
    "balances = balances_normalized.merge(r_025, how=\"outer\", on=join_fields)\n",
    "\n",
    "balances"
   ]
  },
  {
   "cell_type": "code",
   "execution_count": null,
   "id": "e96e7b06",
   "metadata": {},
   "outputs": [],
   "source": [
    "missing_from_qb = (\n",
    "    balances.loc[lambda df: df[\"qbid\"].isna()]\n",
    "    .drop(columns=[\"qbid\"])\n",
    "    .rename(columns=fields)\n",
    "    .to_dict(orient=\"records\")\n",
    ")\n",
    "\n",
    "len(missing_from_qb)\n",
    "\n",
    "data = []\n",
    "for row in missing_from_qb:\n",
    "    data.append({k: {\"value\": v} for k, v in row.items()})"
   ]
  },
  {
   "cell_type": "code",
   "execution_count": null,
   "id": "bb085e14",
   "metadata": {},
   "outputs": [],
   "source": [
    "body = {\"to\": \"bu9duyip8\", \"data\": data}\n",
    "\n",
    "r = requests.post(\n",
    "    url=\"https://api.quickbase.com/v1/records\", json=body, headers=headers\n",
    ")\n",
    "\n",
    "r.json()"
   ]
  }
 ],
 "metadata": {
  "kernelspec": {
   "display_name": "data-cleaning-py",
   "language": "python",
   "name": "python3"
  },
  "language_info": {
   "codemirror_mode": {
    "name": "ipython",
    "version": 3
   },
   "file_extension": ".py",
   "mimetype": "text/x-python",
   "name": "python",
   "nbconvert_exporter": "python",
   "pygments_lexer": "ipython3",
   "version": "3.13.5"
  }
 },
 "nbformat": 4,
 "nbformat_minor": 5
}
